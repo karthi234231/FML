{
  "nbformat": 4,
  "nbformat_minor": 0,
  "metadata": {
    "colab": {
      "provenance": [],
      "authorship_tag": "ABX9TyMKvrMHAnaHsGlSs8RJI/Sd",
      "include_colab_link": true
    },
    "kernelspec": {
      "name": "python3",
      "display_name": "Python 3"
    },
    "language_info": {
      "name": "python"
    }
  },
  "cells": [
    {
      "cell_type": "markdown",
      "metadata": {
        "id": "view-in-github",
        "colab_type": "text"
      },
      "source": [
        "<a href=\"https://colab.research.google.com/github/karthi234231/FML/blob/main/numpy.ipynb\" target=\"_parent\"><img src=\"https://colab.research.google.com/assets/colab-badge.svg\" alt=\"Open In Colab\"/></a>"
      ]
    },
    {
      "cell_type": "code",
      "execution_count": null,
      "metadata": {
        "colab": {
          "base_uri": "https://localhost:8080/"
        },
        "id": "ymFLB8xw4PWy",
        "outputId": "5dde753f-0e1d-4f10-9c84-061591abc0b0"
      },
      "outputs": [
        {
          "output_type": "stream",
          "name": "stdout",
          "text": [
            "[1 2 3]\n"
          ]
        }
      ],
      "source": [
        "import numpy as np\n",
        "a=np.array([1,2,3])\n",
        "print(a)"
      ]
    },
    {
      "cell_type": "code",
      "source": [
        "b=np.array([[1,2,3],[6,7,8]],dtype='int16')\n",
        "print(\"shape:\",b.shape)\n",
        "print(\"dimension:\",b.ndim)\n",
        "print(\"datatype:\",a.dtype)\n",
        "print(\"datatype:\",b.dtype)\n",
        "print(\"itemsize:\",a.itemsize)\n",
        "print(a.size,b.size)\n",
        "print(\"Size of the array: \",a.size)\n",
        " \n",
        "print(\"Memory size of one array element in bytes: \",a.itemsize)"
      ],
      "metadata": {
        "colab": {
          "base_uri": "https://localhost:8080/"
        },
        "id": "Z_tg0UYW4TgD",
        "outputId": "c4055a9c-1001-44ba-db0c-0b3ac13c7c6f"
      },
      "execution_count": null,
      "outputs": [
        {
          "output_type": "stream",
          "name": "stdout",
          "text": [
            "shape: (2, 3)\n",
            "dimension: 2\n",
            "datatype: int64\n",
            "datatype: int16\n",
            "itemsize: 8\n",
            "14 6\n",
            "Size of the array:  14\n",
            "Memory size of one array element in bytes:  8\n"
          ]
        }
      ]
    },
    {
      "cell_type": "code",
      "source": [
        "#slicing\n",
        "a1=np.array([[1,2,3,4,5,6,7],[8,9,10,11,12,13,14]])\n",
        "print(a1[0,4])\n",
        "print(a1[1,:])\n",
        "print(a1[0,2:5])\n",
        "print(a1[1,0:8:2])\n",
        "print(a1[:,2])"
      ],
      "metadata": {
        "colab": {
          "base_uri": "https://localhost:8080/"
        },
        "id": "5n4VkImi5NcM",
        "outputId": "c3545944-e46a-4ca6-89fd-d57693959d7e"
      },
      "execution_count": null,
      "outputs": [
        {
          "output_type": "stream",
          "name": "stdout",
          "text": [
            "5\n",
            "[ 8  9 10 11 12 13 14]\n",
            "[3 4 5]\n",
            "[ 8 10 12 14]\n",
            "[ 3 10]\n"
          ]
        }
      ]
    },
    {
      "cell_type": "code",
      "source": [
        "import numpy as np\n",
        "\n",
        "a2=np.zeros((3,4))\n",
        "a3=np.zeros(5,int)\n",
        "print(a2)\n",
        "print(a3)"
      ],
      "metadata": {
        "colab": {
          "base_uri": "https://localhost:8080/"
        },
        "id": "pWDa3MIGBRD6",
        "outputId": "3c8fbfae-da90-419c-ea00-4e8c4d15b257"
      },
      "execution_count": null,
      "outputs": [
        {
          "output_type": "stream",
          "name": "stdout",
          "text": [
            "[[0. 0. 0. 0.]\n",
            " [0. 0. 0. 0.]\n",
            " [0. 0. 0. 0.]]\n",
            "[0 0 0 0 0]\n"
          ]
        }
      ]
    },
    {
      "cell_type": "code",
      "source": [
        "b1=np.full((2,2),99)\n",
        "print(b1)"
      ],
      "metadata": {
        "colab": {
          "base_uri": "https://localhost:8080/"
        },
        "id": "g3IqnpokCvge",
        "outputId": "92f85366-0725-4836-9568-97fa28f15516"
      },
      "execution_count": null,
      "outputs": [
        {
          "output_type": "stream",
          "name": "stdout",
          "text": [
            "[[99 99]\n",
            " [99 99]]\n"
          ]
        }
      ]
    },
    {
      "cell_type": "code",
      "source": [
        "b2=np.identity(3,int)\n",
        "b3=np.eye(3,dtype='int')\n",
        "print(b2)\n",
        "print(b3)"
      ],
      "metadata": {
        "colab": {
          "base_uri": "https://localhost:8080/"
        },
        "id": "T7v1RCA7Dydd",
        "outputId": "32f1f0d2-0f79-4a05-9e9d-e8a173bfb5fe"
      },
      "execution_count": null,
      "outputs": [
        {
          "output_type": "stream",
          "name": "stdout",
          "text": [
            "[[1 0 0]\n",
            " [0 1 0]\n",
            " [0 0 1]]\n",
            "[[1 0 0]\n",
            " [0 1 0]\n",
            " [0 0 1]]\n"
          ]
        }
      ]
    },
    {
      "cell_type": "code",
      "source": [
        "arr1=np.random.rand(4,2)\n",
        "arr2=np.random.randint(0,[10,3,4])\n",
        "arr3=np.random.randint([9,3,4],10)\n",
        "print(arr2)\n",
        "print(\"\")\n",
        "print(arr1)\n",
        "print(\"\")\n",
        "print(arr3)\n"
      ],
      "metadata": {
        "colab": {
          "base_uri": "https://localhost:8080/"
        },
        "id": "nFOS9oq0E8JB",
        "outputId": "99332fce-1a66-4e23-9767-b8d0d9a98263"
      },
      "execution_count": null,
      "outputs": [
        {
          "output_type": "stream",
          "name": "stdout",
          "text": [
            "[8 0 1]\n",
            "\n",
            "[[0.26188326 0.0853826 ]\n",
            " [0.13616493 0.74316114]\n",
            " [0.59121447 0.72415622]\n",
            " [0.11597491 0.94675093]]\n",
            "\n",
            "[9 4 5]\n"
          ]
        }
      ]
    },
    {
      "cell_type": "code",
      "source": [
        "ar1=np.array([1,2,3,4])\n",
        "print(np.sum(ar1))\n",
        "print(np.max(ar1))\n",
        "print(np.min(ar1))"
      ],
      "metadata": {
        "colab": {
          "base_uri": "https://localhost:8080/"
        },
        "id": "KqBwhsBCM-Ro",
        "outputId": "e4a6babe-2da7-4cc5-9dea-b563537facb5"
      },
      "execution_count": null,
      "outputs": [
        {
          "output_type": "stream",
          "name": "stdout",
          "text": [
            "10\n",
            "4\n",
            "1\n"
          ]
        }
      ]
    },
    {
      "cell_type": "code",
      "source": [
        "n1=np.array([[1,2,3,4],[2,3,4,5]])\n",
        "n2=np.array([[2,3,4,5],[3,3,2,1]])\n",
        "print(n1*n2)\n",
        "print(\"  \")\n",
        "cross=np.cross(n1,)"
      ],
      "metadata": {
        "colab": {
          "base_uri": "https://localhost:8080/"
        },
        "id": "Y_aL3gypN_hQ",
        "outputId": "6e89c043-0b56-46b6-f8a8-9adfaeb2d516"
      },
      "execution_count": null,
      "outputs": [
        {
          "output_type": "stream",
          "name": "stdout",
          "text": [
            "[[ 2  6 12 20]\n",
            " [ 6  9  8  5]]\n",
            "  \n"
          ]
        }
      ]
    }
  ]
}